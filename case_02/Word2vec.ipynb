{
 "cells": [
  {
   "cell_type": "code",
   "execution_count": 11,
   "id": "139c16b2",
   "metadata": {},
   "outputs": [],
   "source": [
    "import numpy as np\n",
    "import pandas as pd\n",
    "from scipy import spatial\n",
    "import gensim.downloader as api\n",
    "import os"
   ]
  },
  {
   "cell_type": "code",
   "execution_count": 4,
   "id": "a9574429",
   "metadata": {},
   "outputs": [
    {
     "name": "stdout",
     "output_type": "stream",
     "text": [
      "[=================---------------------------------] 35.5% 23.4/66.0MB downloaded"
     ]
    },
    {
     "name": "stderr",
     "output_type": "stream",
     "text": [
      "IOPub message rate exceeded.\n",
      "The notebook server will temporarily stop sending output\n",
      "to the client in order to avoid crashing it.\n",
      "To change this limit, set the config variable\n",
      "`--NotebookApp.iopub_msg_rate_limit`.\n",
      "\n",
      "Current values:\n",
      "NotebookApp.iopub_msg_rate_limit=1000.0 (msgs/sec)\n",
      "NotebookApp.rate_limit_window=3.0 (secs)\n",
      "\n"
     ]
    },
    {
     "name": "stdout",
     "output_type": "stream",
     "text": [
      "[=========================================---------] 83.9% 55.4/66.0MB downloaded"
     ]
    },
    {
     "name": "stderr",
     "output_type": "stream",
     "text": [
      "IOPub message rate exceeded.\n",
      "The notebook server will temporarily stop sending output\n",
      "to the client in order to avoid crashing it.\n",
      "To change this limit, set the config variable\n",
      "`--NotebookApp.iopub_msg_rate_limit`.\n",
      "\n",
      "Current values:\n",
      "NotebookApp.iopub_msg_rate_limit=1000.0 (msgs/sec)\n",
      "NotebookApp.rate_limit_window=3.0 (secs)\n",
      "\n"
     ]
    },
    {
     "name": "stdout",
     "output_type": "stream",
     "text": [
      "[==================================================] 100.0% 66.0/66.0MB downloaded\n"
     ]
    }
   ],
   "source": [
    "model = api.load(\"glove-wiki-gigaword-50\")"
   ]
  },
  {
   "cell_type": "code",
   "execution_count": 7,
   "id": "50ba1bda",
   "metadata": {},
   "outputs": [
    {
     "data": {
      "text/html": [
       "<div>\n",
       "<style scoped>\n",
       "    .dataframe tbody tr th:only-of-type {\n",
       "        vertical-align: middle;\n",
       "    }\n",
       "\n",
       "    .dataframe tbody tr th {\n",
       "        vertical-align: top;\n",
       "    }\n",
       "\n",
       "    .dataframe thead th {\n",
       "        text-align: right;\n",
       "    }\n",
       "</style>\n",
       "<table border=\"1\" class=\"dataframe\">\n",
       "  <thead>\n",
       "    <tr style=\"text-align: right;\">\n",
       "      <th></th>\n",
       "      <th>name_1</th>\n",
       "      <th>name_2</th>\n",
       "      <th>is_duplicate</th>\n",
       "    </tr>\n",
       "  </thead>\n",
       "  <tbody>\n",
       "    <tr>\n",
       "      <th>0</th>\n",
       "      <td>Buddha Metal Industries</td>\n",
       "      <td>Chin Tung Chemical Industries Co.</td>\n",
       "      <td>0</td>\n",
       "    </tr>\n",
       "    <tr>\n",
       "      <th>1</th>\n",
       "      <td>Tianjin Kuo Cheng Rubber Industry Co., Ltd.</td>\n",
       "      <td>R.I.Intl</td>\n",
       "      <td>0</td>\n",
       "    </tr>\n",
       "    <tr>\n",
       "      <th>2</th>\n",
       "      <td>Dsi</td>\n",
       "      <td>Kut Shing Chemical Trading Co., Ltd., Dongguan...</td>\n",
       "      <td>0</td>\n",
       "    </tr>\n",
       "    <tr>\n",
       "      <th>3</th>\n",
       "      <td>Edwards India Pvt., Ltd.</td>\n",
       "      <td>H &amp; V Advanced Materials(India) Pvt., Ltd.</td>\n",
       "      <td>0</td>\n",
       "    </tr>\n",
       "    <tr>\n",
       "      <th>4</th>\n",
       "      <td>Pam Sp A</td>\n",
       "      <td>Shanghai Jun Yi Imp. &amp; Exp. . Trade Co., Ltd.</td>\n",
       "      <td>0</td>\n",
       "    </tr>\n",
       "  </tbody>\n",
       "</table>\n",
       "</div>"
      ],
      "text/plain": [
       "                                        name_1  \\\n",
       "0                      Buddha Metal Industries   \n",
       "1  Tianjin Kuo Cheng Rubber Industry Co., Ltd.   \n",
       "2                                          Dsi   \n",
       "3                     Edwards India Pvt., Ltd.   \n",
       "4                                     Pam Sp A   \n",
       "\n",
       "                                              name_2  is_duplicate  \n",
       "0                  Chin Tung Chemical Industries Co.             0  \n",
       "1                                           R.I.Intl             0  \n",
       "2  Kut Shing Chemical Trading Co., Ltd., Dongguan...             0  \n",
       "3         H & V Advanced Materials(India) Pvt., Ltd.             0  \n",
       "4      Shanghai Jun Yi Imp. & Exp. . Trade Co., Ltd.             0  "
      ]
     },
     "execution_count": 7,
     "metadata": {},
     "output_type": "execute_result"
    }
   ],
   "source": [
    "data_path = \"./data/\"\n",
    "data = pd.read_csv(os.path.join(data_path, \"train.csv\"))\n",
    "data.head()"
   ]
  },
  {
   "cell_type": "code",
   "execution_count": 8,
   "id": "f5bb0176",
   "metadata": {},
   "outputs": [
    {
     "data": {
      "text/html": [
       "<div>\n",
       "<style scoped>\n",
       "    .dataframe tbody tr th:only-of-type {\n",
       "        vertical-align: middle;\n",
       "    }\n",
       "\n",
       "    .dataframe tbody tr th {\n",
       "        vertical-align: top;\n",
       "    }\n",
       "\n",
       "    .dataframe thead th {\n",
       "        text-align: right;\n",
       "    }\n",
       "</style>\n",
       "<table border=\"1\" class=\"dataframe\">\n",
       "  <thead>\n",
       "    <tr style=\"text-align: right;\">\n",
       "      <th></th>\n",
       "      <th>name_1</th>\n",
       "      <th>name_2</th>\n",
       "      <th>is_duplicate</th>\n",
       "    </tr>\n",
       "  </thead>\n",
       "  <tbody>\n",
       "    <tr>\n",
       "      <th>53</th>\n",
       "      <td>COLQUIMICA</td>\n",
       "      <td>ColquÍmica - IndÚstria Nacional De Colas, S.A.</td>\n",
       "      <td>1</td>\n",
       "    </tr>\n",
       "    <tr>\n",
       "      <th>81</th>\n",
       "      <td>Shanghai Michelin Warrior Tyre Co., Ltd.</td>\n",
       "      <td>Michelin Shenyang Tire Co., Ltd.</td>\n",
       "      <td>1</td>\n",
       "    </tr>\n",
       "    <tr>\n",
       "      <th>120</th>\n",
       "      <td>Sumitomo Industrias Pesadas Do Brasil Ltda</td>\n",
       "      <td>Sumitomo Corporation Do Brasil Sa</td>\n",
       "      <td>1</td>\n",
       "    </tr>\n",
       "    <tr>\n",
       "      <th>423</th>\n",
       "      <td>Korea- ERS- Korea Petroleum</td>\n",
       "      <td>Korea Petroleum Industries Company (KOSE:A004090)</td>\n",
       "      <td>1</td>\n",
       "    </tr>\n",
       "    <tr>\n",
       "      <th>486</th>\n",
       "      <td>Pirelli Neumaticos Sa</td>\n",
       "      <td>Pirelli Tyre Co., Ltd.</td>\n",
       "      <td>1</td>\n",
       "    </tr>\n",
       "    <tr>\n",
       "      <th>497</th>\n",
       "      <td>JX Nippon Oil &amp; Gas Exploration Corporation</td>\n",
       "      <td>JX Nippon Oil &amp; Gas Exploration (Qatar) Limited</td>\n",
       "      <td>1</td>\n",
       "    </tr>\n",
       "    <tr>\n",
       "      <th>504</th>\n",
       "      <td>Arlanxeo Usa Llc</td>\n",
       "      <td>Arlanxeo Corp.</td>\n",
       "      <td>1</td>\n",
       "    </tr>\n",
       "    <tr>\n",
       "      <th>553</th>\n",
       "      <td>Bridgestone Do Brasil Industria &amp; Comercio Ltda</td>\n",
       "      <td>Bridgestone India</td>\n",
       "      <td>1</td>\n",
       "    </tr>\n",
       "    <tr>\n",
       "      <th>631</th>\n",
       "      <td>Bridgestone Do Brasil Industria E Comenrcio Ltda</td>\n",
       "      <td>Bridgestone Canada Inc.</td>\n",
       "      <td>1</td>\n",
       "    </tr>\n",
       "    <tr>\n",
       "      <th>722</th>\n",
       "      <td>Turmerleim Gmbh</td>\n",
       "      <td>TÜRMERLEIM GmbH</td>\n",
       "      <td>1</td>\n",
       "    </tr>\n",
       "  </tbody>\n",
       "</table>\n",
       "</div>"
      ],
      "text/plain": [
       "                                               name_1  \\\n",
       "53                                         COLQUIMICA   \n",
       "81           Shanghai Michelin Warrior Tyre Co., Ltd.   \n",
       "120        Sumitomo Industrias Pesadas Do Brasil Ltda   \n",
       "423                       Korea- ERS- Korea Petroleum   \n",
       "486                             Pirelli Neumaticos Sa   \n",
       "497       JX Nippon Oil & Gas Exploration Corporation   \n",
       "504                                  Arlanxeo Usa Llc   \n",
       "553   Bridgestone Do Brasil Industria & Comercio Ltda   \n",
       "631  Bridgestone Do Brasil Industria E Comenrcio Ltda   \n",
       "722                                   Turmerleim Gmbh   \n",
       "\n",
       "                                                name_2  is_duplicate  \n",
       "53      ColquÍmica - IndÚstria Nacional De Colas, S.A.             1  \n",
       "81                    Michelin Shenyang Tire Co., Ltd.             1  \n",
       "120                  Sumitomo Corporation Do Brasil Sa             1  \n",
       "423  Korea Petroleum Industries Company (KOSE:A004090)             1  \n",
       "486                             Pirelli Tyre Co., Ltd.             1  \n",
       "497    JX Nippon Oil & Gas Exploration (Qatar) Limited             1  \n",
       "504                                     Arlanxeo Corp.             1  \n",
       "553                                  Bridgestone India             1  \n",
       "631                            Bridgestone Canada Inc.             1  \n",
       "722                                    TÜRMERLEIM GmbH             1  "
      ]
     },
     "execution_count": 8,
     "metadata": {},
     "output_type": "execute_result"
    }
   ],
   "source": [
    "mask = data.is_duplicate == 1\n",
    "data[mask][:10]"
   ]
  },
  {
   "cell_type": "code",
   "execution_count": 55,
   "id": "188826f2",
   "metadata": {},
   "outputs": [
    {
     "ename": "TypeError",
     "evalue": "'Word2Vec' object is not subscriptable",
     "output_type": "error",
     "traceback": [
      "\u001b[0;31m---------------------------------------------------------------------------\u001b[0m",
      "\u001b[0;31mTypeError\u001b[0m                                 Traceback (most recent call last)",
      "Input \u001b[0;32mIn [55]\u001b[0m, in \u001b[0;36m<cell line: 8>\u001b[0;34m()\u001b[0m\n\u001b[1;32m      7\u001b[0m idx_dupl \u001b[38;5;241m=\u001b[39m [\u001b[38;5;241m53\u001b[39m, \u001b[38;5;241m81\u001b[39m, \u001b[38;5;241m120\u001b[39m]\n\u001b[1;32m      8\u001b[0m \u001b[38;5;28;01mfor\u001b[39;00m idx \u001b[38;5;129;01min\u001b[39;00m idx_dupl:\n\u001b[1;32m      9\u001b[0m     dist \u001b[38;5;241m=\u001b[39m \u001b[38;5;241m1\u001b[39m \u001b[38;5;241m-\u001b[39m spatial\u001b[38;5;241m.\u001b[39mdistance\u001b[38;5;241m.\u001b[39mcosine(\n\u001b[0;32m---> 10\u001b[0m         \u001b[43mget_vec\u001b[49m\u001b[43m(\u001b[49m\u001b[43mdata\u001b[49m\u001b[38;5;241;43m.\u001b[39;49m\u001b[43mloc\u001b[49m\u001b[43m[\u001b[49m\u001b[43midx\u001b[49m\u001b[43m,\u001b[49m\u001b[43m \u001b[49m\u001b[38;5;124;43m\"\u001b[39;49m\u001b[38;5;124;43mname_1\u001b[39;49m\u001b[38;5;124;43m\"\u001b[39;49m\u001b[43m]\u001b[49m\u001b[43m)\u001b[49m,\n\u001b[1;32m     11\u001b[0m         get_vec(data\u001b[38;5;241m.\u001b[39mloc[idx, \u001b[38;5;124m\"\u001b[39m\u001b[38;5;124mname_2\u001b[39m\u001b[38;5;124m\"\u001b[39m])\n\u001b[1;32m     12\u001b[0m     )\n\u001b[1;32m     13\u001b[0m     \u001b[38;5;28mprint\u001b[39m(\u001b[38;5;124mf\u001b[39m\u001b[38;5;124m\"\u001b[39m\u001b[38;5;132;01m{\u001b[39;00midx\u001b[38;5;132;01m}\u001b[39;00m\u001b[38;5;124m - \u001b[39m\u001b[38;5;132;01m{\u001b[39;00mdist\u001b[38;5;132;01m}\u001b[39;00m\u001b[38;5;124m\"\u001b[39m)\n",
      "Input \u001b[0;32mIn [55]\u001b[0m, in \u001b[0;36mget_vec\u001b[0;34m(s)\u001b[0m\n\u001b[1;32m      4\u001b[0m \u001b[38;5;28;01mdef\u001b[39;00m \u001b[38;5;21mget_vec\u001b[39m(s):\n\u001b[0;32m----> 5\u001b[0m     \u001b[38;5;28;01mreturn\u001b[39;00m np\u001b[38;5;241m.\u001b[39msum(np\u001b[38;5;241m.\u001b[39marray([model[i] \u001b[38;5;28;01mfor\u001b[39;00m i \u001b[38;5;129;01min\u001b[39;00m preprocess(s)]), axis\u001b[38;5;241m=\u001b[39m\u001b[38;5;241m0\u001b[39m)\n",
      "Input \u001b[0;32mIn [55]\u001b[0m, in \u001b[0;36m<listcomp>\u001b[0;34m(.0)\u001b[0m\n\u001b[1;32m      4\u001b[0m \u001b[38;5;28;01mdef\u001b[39;00m \u001b[38;5;21mget_vec\u001b[39m(s):\n\u001b[0;32m----> 5\u001b[0m     \u001b[38;5;28;01mreturn\u001b[39;00m np\u001b[38;5;241m.\u001b[39msum(np\u001b[38;5;241m.\u001b[39marray([\u001b[43mmodel\u001b[49m\u001b[43m[\u001b[49m\u001b[43mi\u001b[49m\u001b[43m]\u001b[49m \u001b[38;5;28;01mfor\u001b[39;00m i \u001b[38;5;129;01min\u001b[39;00m preprocess(s)]), axis\u001b[38;5;241m=\u001b[39m\u001b[38;5;241m0\u001b[39m)\n",
      "\u001b[0;31mTypeError\u001b[0m: 'Word2Vec' object is not subscriptable"
     ]
    }
   ],
   "source": [
    "def preprocess(s):\n",
    "    return [i.lower() for i in s.split()]\n",
    "\n",
    "def get_vec(s):\n",
    "    return np.sum(np.array([model[i] for i in preprocess(s)]), axis=0)\n",
    "\n",
    "idx_dupl = [53, 81, 120]\n",
    "for idx in idx_dupl:\n",
    "    dist = 1 - spatial.distance.cosine(\n",
    "        get_vec(data.loc[idx, \"name_1\"]),\n",
    "        get_vec(data.loc[idx, \"name_2\"])\n",
    "    )\n",
    "    print(f\"{idx} - {dist}\")"
   ]
  },
  {
   "cell_type": "code",
   "execution_count": 13,
   "id": "7c5c4283",
   "metadata": {},
   "outputs": [
    {
     "name": "stdout",
     "output_type": "stream",
     "text": [
      "s0 vs s1 -> 0.965923011302948\n",
      "s0 vs s2 -> 0.8659112453460693\n",
      "s0 vs s3 -> 0.5877998471260071\n"
     ]
    }
   ],
   "source": [
    "s0 = 'Mark zuckerberg owns the facebook company'\n",
    "s1 = 'Facebook company ceo is mark zuckerberg'\n",
    "s2 = 'Microsoft is owned by Bill gates'\n",
    "s3 = 'How to learn japanese'\n",
    "\n",
    "def preprocess(s):\n",
    "    return [i.lower() for i in s.split()]\n",
    "\n",
    "def get_vector(s):\n",
    "    return np.sum(np.array([model[i] for i in preprocess(s)]), axis=0)\n",
    "\n",
    "\n",
    "print('s0 vs s1 ->',1 - spatial.distance.cosine(get_vector(s0), get_vector(s1)))\n",
    "print('s0 vs s2 ->', 1 - spatial.distance.cosine(get_vector(s0), get_vector(s2)))\n",
    "print('s0 vs s3 ->', 1 - spatial.distance.cosine(get_vector(s0), get_vector(s3)))"
   ]
  },
  {
   "cell_type": "code",
   "execution_count": 44,
   "id": "c28217ea",
   "metadata": {},
   "outputs": [],
   "source": [
    "from gensim.models import Word2Vec\n",
    "model = Word2Vec(list(data[\"name_1\"].str.lower()))"
   ]
  },
  {
   "cell_type": "code",
   "execution_count": 45,
   "id": "44e0fd4a",
   "metadata": {},
   "outputs": [
    {
     "data": {
      "text/plain": [
       "'Shanghai Michelin Warrior Tyre Co., Ltd.'"
      ]
     },
     "execution_count": 45,
     "metadata": {},
     "output_type": "execute_result"
    }
   ],
   "source": [
    "text = data.loc[81, \"name_1\"]\n",
    "text"
   ]
  },
  {
   "cell_type": "code",
   "execution_count": 46,
   "id": "bc69b040",
   "metadata": {},
   "outputs": [
    {
     "data": {
      "text/plain": [
       "['shanghai', 'michelin', 'warrior', 'tyre', 'co.,', 'ltd.']"
      ]
     },
     "execution_count": 46,
     "metadata": {},
     "output_type": "execute_result"
    }
   ],
   "source": [
    "text = preprocess(text)\n",
    "text"
   ]
  },
  {
   "cell_type": "code",
   "execution_count": 47,
   "id": "5e565683",
   "metadata": {},
   "outputs": [
    {
     "ename": "KeyError",
     "evalue": "\"Key 'shanghai' not present\"",
     "output_type": "error",
     "traceback": [
      "\u001b[0;31m---------------------------------------------------------------------------\u001b[0m",
      "\u001b[0;31mKeyError\u001b[0m                                  Traceback (most recent call last)",
      "Input \u001b[0;32mIn [47]\u001b[0m, in \u001b[0;36m<cell line: 1>\u001b[0;34m()\u001b[0m\n\u001b[0;32m----> 1\u001b[0m \u001b[43mmodel\u001b[49m\u001b[38;5;241;43m.\u001b[39;49m\u001b[43mwv\u001b[49m\u001b[43m[\u001b[49m\u001b[43mtext\u001b[49m\u001b[43m[\u001b[49m\u001b[38;5;241;43m0\u001b[39;49m\u001b[43m]\u001b[49m\u001b[43m]\u001b[49m\n",
      "File \u001b[0;32m/media/ruslan515/DATA_LINUX/anaconda3/envs/itmo/lib/python3.10/site-packages/gensim/models/keyedvectors.py:404\u001b[0m, in \u001b[0;36mKeyedVectors.__getitem__\u001b[0;34m(self, key_or_keys)\u001b[0m\n\u001b[1;32m    390\u001b[0m \u001b[38;5;124;03m\"\"\"Get vector representation of `key_or_keys`.\u001b[39;00m\n\u001b[1;32m    391\u001b[0m \n\u001b[1;32m    392\u001b[0m \u001b[38;5;124;03mParameters\u001b[39;00m\n\u001b[0;32m   (...)\u001b[0m\n\u001b[1;32m    401\u001b[0m \n\u001b[1;32m    402\u001b[0m \u001b[38;5;124;03m\"\"\"\u001b[39;00m\n\u001b[1;32m    403\u001b[0m \u001b[38;5;28;01mif\u001b[39;00m \u001b[38;5;28misinstance\u001b[39m(key_or_keys, _KEY_TYPES):\n\u001b[0;32m--> 404\u001b[0m     \u001b[38;5;28;01mreturn\u001b[39;00m \u001b[38;5;28;43mself\u001b[39;49m\u001b[38;5;241;43m.\u001b[39;49m\u001b[43mget_vector\u001b[49m\u001b[43m(\u001b[49m\u001b[43mkey_or_keys\u001b[49m\u001b[43m)\u001b[49m\n\u001b[1;32m    406\u001b[0m \u001b[38;5;28;01mreturn\u001b[39;00m vstack([\u001b[38;5;28mself\u001b[39m\u001b[38;5;241m.\u001b[39mget_vector(key) \u001b[38;5;28;01mfor\u001b[39;00m key \u001b[38;5;129;01min\u001b[39;00m key_or_keys])\n",
      "File \u001b[0;32m/media/ruslan515/DATA_LINUX/anaconda3/envs/itmo/lib/python3.10/site-packages/gensim/models/keyedvectors.py:447\u001b[0m, in \u001b[0;36mKeyedVectors.get_vector\u001b[0;34m(self, key, norm)\u001b[0m\n\u001b[1;32m    423\u001b[0m \u001b[38;5;28;01mdef\u001b[39;00m \u001b[38;5;21mget_vector\u001b[39m(\u001b[38;5;28mself\u001b[39m, key, norm\u001b[38;5;241m=\u001b[39m\u001b[38;5;28;01mFalse\u001b[39;00m):\n\u001b[1;32m    424\u001b[0m     \u001b[38;5;124;03m\"\"\"Get the key's vector, as a 1D numpy array.\u001b[39;00m\n\u001b[1;32m    425\u001b[0m \n\u001b[1;32m    426\u001b[0m \u001b[38;5;124;03m    Parameters\u001b[39;00m\n\u001b[0;32m   (...)\u001b[0m\n\u001b[1;32m    445\u001b[0m \n\u001b[1;32m    446\u001b[0m \u001b[38;5;124;03m    \"\"\"\u001b[39;00m\n\u001b[0;32m--> 447\u001b[0m     index \u001b[38;5;241m=\u001b[39m \u001b[38;5;28;43mself\u001b[39;49m\u001b[38;5;241;43m.\u001b[39;49m\u001b[43mget_index\u001b[49m\u001b[43m(\u001b[49m\u001b[43mkey\u001b[49m\u001b[43m)\u001b[49m\n\u001b[1;32m    448\u001b[0m     \u001b[38;5;28;01mif\u001b[39;00m norm:\n\u001b[1;32m    449\u001b[0m         \u001b[38;5;28mself\u001b[39m\u001b[38;5;241m.\u001b[39mfill_norms()\n",
      "File \u001b[0;32m/media/ruslan515/DATA_LINUX/anaconda3/envs/itmo/lib/python3.10/site-packages/gensim/models/keyedvectors.py:421\u001b[0m, in \u001b[0;36mKeyedVectors.get_index\u001b[0;34m(self, key, default)\u001b[0m\n\u001b[1;32m    419\u001b[0m     \u001b[38;5;28;01mreturn\u001b[39;00m default\n\u001b[1;32m    420\u001b[0m \u001b[38;5;28;01melse\u001b[39;00m:\n\u001b[0;32m--> 421\u001b[0m     \u001b[38;5;28;01mraise\u001b[39;00m \u001b[38;5;167;01mKeyError\u001b[39;00m(\u001b[38;5;124mf\u001b[39m\u001b[38;5;124m\"\u001b[39m\u001b[38;5;124mKey \u001b[39m\u001b[38;5;124m'\u001b[39m\u001b[38;5;132;01m{\u001b[39;00mkey\u001b[38;5;132;01m}\u001b[39;00m\u001b[38;5;124m'\u001b[39m\u001b[38;5;124m not present\u001b[39m\u001b[38;5;124m\"\u001b[39m)\n",
      "\u001b[0;31mKeyError\u001b[0m: \"Key 'shanghai' not present\""
     ]
    }
   ],
   "source": [
    "model.wv[text[0]]"
   ]
  },
  {
   "cell_type": "code",
   "execution_count": 64,
   "id": "ab1cb03b",
   "metadata": {},
   "outputs": [
    {
     "data": {
      "text/plain": [
       "0                             buddha metal industries\n",
       "1         tianjin kuo cheng rubber industry co., ltd.\n",
       "2                                                 dsi\n",
       "3                            edwards india pvt., ltd.\n",
       "4                                            pam sp a\n",
       "                             ...                     \n",
       "396544                              ng fung hong inc.\n",
       "396545     cosharbor logistics co., ltd.(lianyungang)\n",
       "396546                   gti international pvt., ltd.\n",
       "396547                              i b international\n",
       "396548                     tremco illbruck group gmbh\n",
       "Name: name_1, Length: 396549, dtype: object"
      ]
     },
     "execution_count": 64,
     "metadata": {},
     "output_type": "execute_result"
    }
   ],
   "source": [
    "data[\"name_1\"].str.lower()"
   ]
  },
  {
   "cell_type": "code",
   "execution_count": 67,
   "id": "dcf9d8f6",
   "metadata": {},
   "outputs": [
    {
     "data": {
      "text/plain": [
       "0         Buddha Metal Industries $$$ Chin Tung Chemical...\n",
       "1         Tianjin Kuo Cheng Rubber Industry Co., Ltd. $$...\n",
       "2         Dsi $$$ Kut Shing Chemical Trading Co., Ltd., ...\n",
       "3         Edwards India Pvt., Ltd. $$$ H & V Advanced Ma...\n",
       "4         Pam Sp A $$$ Shanghai Jun Yi Imp. & Exp. . Tra...\n",
       "                                ...                        \n",
       "396544    Ng Fung Hong Inc. $$$ Dongguan Hongsu Supply C...\n",
       "396545    Cosharbor Logistics Co., Ltd.(Lianyungang) $$$...\n",
       "396546    Gti International Pvt., Ltd. $$$ Kurt Geiger Ltd.\n",
       "396547    I B International $$$ Soluciones Integrales En...\n",
       "396548        Tremco illbruck Group GmbH $$$ VALLEY ASPHALT\n",
       "Name: text, Length: 396549, dtype: object"
      ]
     },
     "execution_count": 67,
     "metadata": {},
     "output_type": "execute_result"
    }
   ],
   "source": [
    "data[\"text\"] = data.name_1 + \" $$$ \" + data.name_2\n",
    "data[\"text\"]"
   ]
  },
  {
   "cell_type": "code",
   "execution_count": 68,
   "id": "dc86d462",
   "metadata": {},
   "outputs": [
    {
     "data": {
      "text/plain": [
       "0         [buddha, metal, industries, chin, tung, chemic...\n",
       "1         [tianjin, kuo, cheng, rubber, industry, co, lt...\n",
       "2         [dsi, kut, shing, chemical, trading, co, ltd, ...\n",
       "3         [edwards, india, pvt, ltd, advanced, materials...\n",
       "4         [pam, sp, shanghai, jun, yi, imp, exp, trade, ...\n",
       "                                ...                        \n",
       "396544    [ng, fung, hong, inc, dongguan, hongsu, supply...\n",
       "396545    [cosharbor, logistics, co, ltd, lianyungang, e...\n",
       "396546    [gti, international, pvt, ltd, kurt, geiger, ltd]\n",
       "396547    [international, soluciones, integrales, en, me...\n",
       "396548     [tremco, illbruck, group, gmbh, valley, asphalt]\n",
       "Name: text, Length: 396549, dtype: object"
      ]
     },
     "execution_count": 68,
     "metadata": {},
     "output_type": "execute_result"
    }
   ],
   "source": [
    "resp_new = data.text.apply(gensim.utils.simple_preprocess)\n",
    "resp_new"
   ]
  },
  {
   "cell_type": "code",
   "execution_count": 71,
   "id": "0f1ed7df",
   "metadata": {},
   "outputs": [
    {
     "data": {
      "text/plain": [
       "['colquimica', 'colquímica', 'indústria', 'nacional', 'de', 'colas']"
      ]
     },
     "execution_count": 71,
     "metadata": {},
     "output_type": "execute_result"
    }
   ],
   "source": [
    "resp_new[53]"
   ]
  },
  {
   "cell_type": "code",
   "execution_count": 69,
   "id": "5494173f",
   "metadata": {},
   "outputs": [
    {
     "data": {
      "text/plain": [
       "(9758974, 13766275)"
      ]
     },
     "execution_count": 69,
     "metadata": {},
     "output_type": "execute_result"
    }
   ],
   "source": [
    "model = Word2Vec(window=5, min_count=2, workers=4)\n",
    "model.build_vocab(resp_new, progress_per=1000)\n",
    "model.train(resp_new, total_examples=model.corpus_count, epochs=model.epochs)"
   ]
  },
  {
   "cell_type": "code",
   "execution_count": 51,
   "id": "d00c9dd9",
   "metadata": {},
   "outputs": [
    {
     "data": {
      "text/plain": [
       "array([ 0.2830534 , -0.04991702,  1.7160561 ,  1.520049  ,  3.2193468 ,\n",
       "       -0.4606081 ,  1.8988569 ,  2.6806648 , -1.76105   ,  0.8797542 ,\n",
       "       -0.481226  ,  0.00426382,  3.1098397 ,  0.17595357,  0.6610995 ,\n",
       "       -0.20514107,  1.889144  ,  0.49127585,  0.16299146, -3.5573184 ,\n",
       "        1.1637039 , -0.05122939, -3.9977777 , -0.39748365,  1.1808702 ,\n",
       "       -0.90098894, -1.8124138 , -0.21849668, -1.1113744 ,  0.3071651 ,\n",
       "       -0.45846158,  2.4813235 ,  0.76414675, -1.542355  ,  2.2509181 ,\n",
       "        1.559947  , -0.9511322 ,  0.34435248,  2.437445  ,  0.9465486 ,\n",
       "        0.49008992, -1.6097891 , -1.9681056 ,  1.0585996 ,  0.7435018 ,\n",
       "       -3.0497823 ,  0.5514346 , -1.8583695 ,  2.9301708 ,  1.0669193 ,\n",
       "        2.7736964 ,  2.8563056 ,  0.49895608,  0.75753146,  1.781259  ,\n",
       "        3.0941653 ,  3.5656176 ,  1.4054778 ,  1.0217141 ,  2.6331272 ,\n",
       "       -3.17271   , -1.2812223 , -3.177235  , -3.5199866 , -0.5086265 ,\n",
       "        2.490198  , -1.4899155 , -0.2537019 , -0.31786463,  1.904999  ,\n",
       "       -2.0808308 , -0.7903204 ,  1.587606  ,  1.8461    , -0.5297292 ,\n",
       "        1.835241  ,  2.4384305 , -0.19569057, -1.2071909 ,  1.3442634 ,\n",
       "       -0.8825968 ,  2.866696  , -1.1538837 ,  0.88750786,  0.09624419,\n",
       "       -0.17825226, -1.8888392 , -0.89460754,  2.3136718 ,  1.745201  ,\n",
       "        1.9463784 , -0.2777485 , -0.724842  , -1.0816216 , -0.7754025 ,\n",
       "        2.0254474 , -0.84268355,  0.8920603 ,  1.4079762 , -1.3525991 ],\n",
       "      dtype=float32)"
      ]
     },
     "execution_count": 51,
     "metadata": {},
     "output_type": "execute_result"
    }
   ],
   "source": [
    "model.wv[text[0]]"
   ]
  },
  {
   "cell_type": "code",
   "execution_count": 53,
   "id": "1264449f",
   "metadata": {},
   "outputs": [
    {
     "data": {
      "text/plain": [
       "['colquímica', '-', 'indústria', 'nacional', 'de', 'colas,', 's.a.']"
      ]
     },
     "execution_count": 53,
     "metadata": {},
     "output_type": "execute_result"
    }
   ],
   "source": [
    "text_2 = data.loc[53, \"name_2\"]\n",
    "text_2 = preprocess(text_2)\n",
    "text_2"
   ]
  },
  {
   "cell_type": "code",
   "execution_count": 70,
   "id": "8a78fda2",
   "metadata": {},
   "outputs": [
    {
     "ename": "KeyError",
     "evalue": "\"Key 'colas,' not present\"",
     "output_type": "error",
     "traceback": [
      "\u001b[0;31m---------------------------------------------------------------------------\u001b[0m",
      "\u001b[0;31mKeyError\u001b[0m                                  Traceback (most recent call last)",
      "Input \u001b[0;32mIn [70]\u001b[0m, in \u001b[0;36m<cell line: 1>\u001b[0;34m()\u001b[0m\n\u001b[0;32m----> 1\u001b[0m \u001b[43mmodel\u001b[49m\u001b[38;5;241;43m.\u001b[39;49m\u001b[43mwv\u001b[49m\u001b[43m[\u001b[49m\u001b[43mtext_2\u001b[49m\u001b[43m[\u001b[49m\u001b[38;5;241;43m5\u001b[39;49m\u001b[43m]\u001b[49m\u001b[43m]\u001b[49m\n",
      "File \u001b[0;32m/media/ruslan515/DATA_LINUX/anaconda3/envs/itmo/lib/python3.10/site-packages/gensim/models/keyedvectors.py:404\u001b[0m, in \u001b[0;36mKeyedVectors.__getitem__\u001b[0;34m(self, key_or_keys)\u001b[0m\n\u001b[1;32m    390\u001b[0m \u001b[38;5;124;03m\"\"\"Get vector representation of `key_or_keys`.\u001b[39;00m\n\u001b[1;32m    391\u001b[0m \n\u001b[1;32m    392\u001b[0m \u001b[38;5;124;03mParameters\u001b[39;00m\n\u001b[0;32m   (...)\u001b[0m\n\u001b[1;32m    401\u001b[0m \n\u001b[1;32m    402\u001b[0m \u001b[38;5;124;03m\"\"\"\u001b[39;00m\n\u001b[1;32m    403\u001b[0m \u001b[38;5;28;01mif\u001b[39;00m \u001b[38;5;28misinstance\u001b[39m(key_or_keys, _KEY_TYPES):\n\u001b[0;32m--> 404\u001b[0m     \u001b[38;5;28;01mreturn\u001b[39;00m \u001b[38;5;28;43mself\u001b[39;49m\u001b[38;5;241;43m.\u001b[39;49m\u001b[43mget_vector\u001b[49m\u001b[43m(\u001b[49m\u001b[43mkey_or_keys\u001b[49m\u001b[43m)\u001b[49m\n\u001b[1;32m    406\u001b[0m \u001b[38;5;28;01mreturn\u001b[39;00m vstack([\u001b[38;5;28mself\u001b[39m\u001b[38;5;241m.\u001b[39mget_vector(key) \u001b[38;5;28;01mfor\u001b[39;00m key \u001b[38;5;129;01min\u001b[39;00m key_or_keys])\n",
      "File \u001b[0;32m/media/ruslan515/DATA_LINUX/anaconda3/envs/itmo/lib/python3.10/site-packages/gensim/models/keyedvectors.py:447\u001b[0m, in \u001b[0;36mKeyedVectors.get_vector\u001b[0;34m(self, key, norm)\u001b[0m\n\u001b[1;32m    423\u001b[0m \u001b[38;5;28;01mdef\u001b[39;00m \u001b[38;5;21mget_vector\u001b[39m(\u001b[38;5;28mself\u001b[39m, key, norm\u001b[38;5;241m=\u001b[39m\u001b[38;5;28;01mFalse\u001b[39;00m):\n\u001b[1;32m    424\u001b[0m     \u001b[38;5;124;03m\"\"\"Get the key's vector, as a 1D numpy array.\u001b[39;00m\n\u001b[1;32m    425\u001b[0m \n\u001b[1;32m    426\u001b[0m \u001b[38;5;124;03m    Parameters\u001b[39;00m\n\u001b[0;32m   (...)\u001b[0m\n\u001b[1;32m    445\u001b[0m \n\u001b[1;32m    446\u001b[0m \u001b[38;5;124;03m    \"\"\"\u001b[39;00m\n\u001b[0;32m--> 447\u001b[0m     index \u001b[38;5;241m=\u001b[39m \u001b[38;5;28;43mself\u001b[39;49m\u001b[38;5;241;43m.\u001b[39;49m\u001b[43mget_index\u001b[49m\u001b[43m(\u001b[49m\u001b[43mkey\u001b[49m\u001b[43m)\u001b[49m\n\u001b[1;32m    448\u001b[0m     \u001b[38;5;28;01mif\u001b[39;00m norm:\n\u001b[1;32m    449\u001b[0m         \u001b[38;5;28mself\u001b[39m\u001b[38;5;241m.\u001b[39mfill_norms()\n",
      "File \u001b[0;32m/media/ruslan515/DATA_LINUX/anaconda3/envs/itmo/lib/python3.10/site-packages/gensim/models/keyedvectors.py:421\u001b[0m, in \u001b[0;36mKeyedVectors.get_index\u001b[0;34m(self, key, default)\u001b[0m\n\u001b[1;32m    419\u001b[0m     \u001b[38;5;28;01mreturn\u001b[39;00m default\n\u001b[1;32m    420\u001b[0m \u001b[38;5;28;01melse\u001b[39;00m:\n\u001b[0;32m--> 421\u001b[0m     \u001b[38;5;28;01mraise\u001b[39;00m \u001b[38;5;167;01mKeyError\u001b[39;00m(\u001b[38;5;124mf\u001b[39m\u001b[38;5;124m\"\u001b[39m\u001b[38;5;124mKey \u001b[39m\u001b[38;5;124m'\u001b[39m\u001b[38;5;132;01m{\u001b[39;00mkey\u001b[38;5;132;01m}\u001b[39;00m\u001b[38;5;124m'\u001b[39m\u001b[38;5;124m not present\u001b[39m\u001b[38;5;124m\"\u001b[39m)\n",
      "\u001b[0;31mKeyError\u001b[0m: \"Key 'colas,' not present\""
     ]
    }
   ],
   "source": [
    "model.wv[text_2[5]]"
   ]
  },
  {
   "cell_type": "code",
   "execution_count": 75,
   "id": "888b226c",
   "metadata": {},
   "outputs": [
    {
     "name": "stdout",
     "output_type": "stream",
     "text": [
      "53 - 0.5629817247390747\n",
      "81 - 0.8420652747154236\n",
      "120 - 0.8490780591964722\n",
      "423 - 0.5092119574546814\n",
      "486 - 0.30187249183654785\n",
      "497 - 0.8591246008872986\n",
      "504 - 0.308860182762146\n"
     ]
    }
   ],
   "source": [
    "def preprocess(s):\n",
    "    return [i.lower() for i in s.split()]\n",
    "\n",
    "def get_vec(s):\n",
    "#     ans = []\n",
    "#     for i in preprocess(s):\n",
    "#         try:\n",
    "# #             print(i)\n",
    "#             vec = model.wv[i]\n",
    "#             ans.append(vec)\n",
    "#         except:\n",
    "# #             print(f\"not foudn word == {i}\")\n",
    "#             pass\n",
    "\n",
    "    prep_s = gensim.utils.simple_preprocess(s)\n",
    "    ans = []\n",
    "    for i in prep_s:\n",
    "        try:\n",
    "            vec = model.wv[i]\n",
    "            ans.append(vec)\n",
    "        except:\n",
    "            pass\n",
    "                \n",
    "    sum_vec = np.sum(np.array(ans), axis=0)\n",
    "    return sum_vec\n",
    "\n",
    "idx_dupl = [53, 81, 120, 423, 486, 497, 504]\n",
    "for idx in idx_dupl:\n",
    "    dist = 1 - spatial.distance.cosine(\n",
    "        get_vec(data.loc[idx, \"name_1\"]),\n",
    "        get_vec(data.loc[idx, \"name_2\"])\n",
    "    )\n",
    "    print(f\"{idx} - {dist}\")"
   ]
  },
  {
   "cell_type": "code",
   "execution_count": null,
   "id": "014695eb",
   "metadata": {},
   "outputs": [],
   "source": []
  }
 ],
 "metadata": {
  "kernelspec": {
   "display_name": "Python 3",
   "language": "python",
   "name": "python3"
  },
  "language_info": {
   "codemirror_mode": {
    "name": "ipython",
    "version": 3
   },
   "file_extension": ".py",
   "mimetype": "text/x-python",
   "name": "python",
   "nbconvert_exporter": "python",
   "pygments_lexer": "ipython3",
   "version": "3.10.6"
  }
 },
 "nbformat": 4,
 "nbformat_minor": 5
}
