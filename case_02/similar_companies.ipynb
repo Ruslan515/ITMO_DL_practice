{
  "nbformat": 4,
  "nbformat_minor": 0,
  "metadata": {
    "colab": {
      "provenance": []
    },
    "kernelspec": {
      "name": "python3",
      "display_name": "Python 3"
    },
    "language_info": {
      "name": "python"
    }
  },
  "cells": [
    {
      "cell_type": "code",
      "source": [
        "!pip install -r requirements.txt\n",
        "!pip install sentence-transformers"
      ],
      "metadata": {
        "id": "4YPzf6-9VySa"
      },
      "execution_count": null,
      "outputs": []
    },
    {
      "cell_type": "code",
      "execution_count": null,
      "metadata": {
        "id": "5zYwTxwcPX87"
      },
      "outputs": [],
      "source": [
        "!gdown \"1AB7lawi9G4gv1WAG6ZVwnS-HgU4JkWiK\" -O ./weights/embeddings.pkl\n",
        "!gdown \"1-8c-DpxJ6iOAnHjOqyWvnbWvUUlxYxK6\" -O ./weights/\n",
        "!unzip ./weights/weights_sbert.zip -d ./weights/\n",
        "!rm -rf ./weights/weights_sbert.zip"
      ]
    },
    {
      "cell_type": "code",
      "source": [
        "!python main.py"
      ],
      "metadata": {
        "id": "KN6gw0j7ULDa"
      },
      "execution_count": null,
      "outputs": []
    }
  ]
}