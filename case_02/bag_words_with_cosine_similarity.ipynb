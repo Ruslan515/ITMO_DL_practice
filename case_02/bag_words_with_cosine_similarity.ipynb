{
 "cells": [
  {
   "cell_type": "code",
   "execution_count": 20,
   "id": "ec5ba967",
   "metadata": {},
   "outputs": [],
   "source": [
    "from collections import Counter\n",
    "from sklearn.feature_extraction.text import CountVectorizer\n",
    "from sklearn.metrics.pairwise import cosine_similarity\n",
    "\n",
    "import pandas as pd\n",
    "import os\n"
   ]
  },
  {
   "cell_type": "code",
   "execution_count": 21,
   "id": "f5063e67",
   "metadata": {},
   "outputs": [
    {
     "data": {
      "text/html": [
       "<div>\n",
       "<style scoped>\n",
       "    .dataframe tbody tr th:only-of-type {\n",
       "        vertical-align: middle;\n",
       "    }\n",
       "\n",
       "    .dataframe tbody tr th {\n",
       "        vertical-align: top;\n",
       "    }\n",
       "\n",
       "    .dataframe thead th {\n",
       "        text-align: right;\n",
       "    }\n",
       "</style>\n",
       "<table border=\"1\" class=\"dataframe\">\n",
       "  <thead>\n",
       "    <tr style=\"text-align: right;\">\n",
       "      <th></th>\n",
       "      <th>name_1</th>\n",
       "      <th>name_2</th>\n",
       "      <th>is_duplicate</th>\n",
       "    </tr>\n",
       "  </thead>\n",
       "  <tbody>\n",
       "    <tr>\n",
       "      <th>0</th>\n",
       "      <td>Buddha Metal Industries</td>\n",
       "      <td>Chin Tung Chemical Industries Co.</td>\n",
       "      <td>0</td>\n",
       "    </tr>\n",
       "    <tr>\n",
       "      <th>1</th>\n",
       "      <td>Tianjin Kuo Cheng Rubber Industry Co., Ltd.</td>\n",
       "      <td>R.I.Intl</td>\n",
       "      <td>0</td>\n",
       "    </tr>\n",
       "    <tr>\n",
       "      <th>2</th>\n",
       "      <td>Dsi</td>\n",
       "      <td>Kut Shing Chemical Trading Co., Ltd., Dongguan...</td>\n",
       "      <td>0</td>\n",
       "    </tr>\n",
       "    <tr>\n",
       "      <th>3</th>\n",
       "      <td>Edwards India Pvt., Ltd.</td>\n",
       "      <td>H &amp; V Advanced Materials(India) Pvt., Ltd.</td>\n",
       "      <td>0</td>\n",
       "    </tr>\n",
       "    <tr>\n",
       "      <th>4</th>\n",
       "      <td>Pam Sp A</td>\n",
       "      <td>Shanghai Jun Yi Imp. &amp; Exp. . Trade Co., Ltd.</td>\n",
       "      <td>0</td>\n",
       "    </tr>\n",
       "  </tbody>\n",
       "</table>\n",
       "</div>"
      ],
      "text/plain": [
       "                                        name_1  \\\n",
       "0                      Buddha Metal Industries   \n",
       "1  Tianjin Kuo Cheng Rubber Industry Co., Ltd.   \n",
       "2                                          Dsi   \n",
       "3                     Edwards India Pvt., Ltd.   \n",
       "4                                     Pam Sp A   \n",
       "\n",
       "                                              name_2  is_duplicate  \n",
       "0                  Chin Tung Chemical Industries Co.             0  \n",
       "1                                           R.I.Intl             0  \n",
       "2  Kut Shing Chemical Trading Co., Ltd., Dongguan...             0  \n",
       "3         H & V Advanced Materials(India) Pvt., Ltd.             0  \n",
       "4      Shanghai Jun Yi Imp. & Exp. . Trade Co., Ltd.             0  "
      ]
     },
     "execution_count": 21,
     "metadata": {},
     "output_type": "execute_result"
    }
   ],
   "source": [
    "data_path = \"./data/\"\n",
    "data = pd.read_csv(os.path.join(data_path, \"train.csv\"))\n",
    "data.head()"
   ]
  },
  {
   "cell_type": "code",
   "execution_count": 22,
   "id": "3be5e117",
   "metadata": {},
   "outputs": [],
   "source": [
    "# count_vec_1 = CountVectorizer()\n",
    "# count_vec_1.fit(data[\"name_1\"])\n",
    "# X_train_1 = count_vec_1.transform(data[\"name_1\"])\n",
    "# X_train_1.shape"
   ]
  },
  {
   "cell_type": "code",
   "execution_count": 32,
   "id": "17cd15d2",
   "metadata": {},
   "outputs": [
    {
     "data": {
      "text/html": [
       "<style>#sk-container-id-4 {color: black;background-color: white;}#sk-container-id-4 pre{padding: 0;}#sk-container-id-4 div.sk-toggleable {background-color: white;}#sk-container-id-4 label.sk-toggleable__label {cursor: pointer;display: block;width: 100%;margin-bottom: 0;padding: 0.3em;box-sizing: border-box;text-align: center;}#sk-container-id-4 label.sk-toggleable__label-arrow:before {content: \"▸\";float: left;margin-right: 0.25em;color: #696969;}#sk-container-id-4 label.sk-toggleable__label-arrow:hover:before {color: black;}#sk-container-id-4 div.sk-estimator:hover label.sk-toggleable__label-arrow:before {color: black;}#sk-container-id-4 div.sk-toggleable__content {max-height: 0;max-width: 0;overflow: hidden;text-align: left;background-color: #f0f8ff;}#sk-container-id-4 div.sk-toggleable__content pre {margin: 0.2em;color: black;border-radius: 0.25em;background-color: #f0f8ff;}#sk-container-id-4 input.sk-toggleable__control:checked~div.sk-toggleable__content {max-height: 200px;max-width: 100%;overflow: auto;}#sk-container-id-4 input.sk-toggleable__control:checked~label.sk-toggleable__label-arrow:before {content: \"▾\";}#sk-container-id-4 div.sk-estimator input.sk-toggleable__control:checked~label.sk-toggleable__label {background-color: #d4ebff;}#sk-container-id-4 div.sk-label input.sk-toggleable__control:checked~label.sk-toggleable__label {background-color: #d4ebff;}#sk-container-id-4 input.sk-hidden--visually {border: 0;clip: rect(1px 1px 1px 1px);clip: rect(1px, 1px, 1px, 1px);height: 1px;margin: -1px;overflow: hidden;padding: 0;position: absolute;width: 1px;}#sk-container-id-4 div.sk-estimator {font-family: monospace;background-color: #f0f8ff;border: 1px dotted black;border-radius: 0.25em;box-sizing: border-box;margin-bottom: 0.5em;}#sk-container-id-4 div.sk-estimator:hover {background-color: #d4ebff;}#sk-container-id-4 div.sk-parallel-item::after {content: \"\";width: 100%;border-bottom: 1px solid gray;flex-grow: 1;}#sk-container-id-4 div.sk-label:hover label.sk-toggleable__label {background-color: #d4ebff;}#sk-container-id-4 div.sk-serial::before {content: \"\";position: absolute;border-left: 1px solid gray;box-sizing: border-box;top: 0;bottom: 0;left: 50%;z-index: 0;}#sk-container-id-4 div.sk-serial {display: flex;flex-direction: column;align-items: center;background-color: white;padding-right: 0.2em;padding-left: 0.2em;position: relative;}#sk-container-id-4 div.sk-item {position: relative;z-index: 1;}#sk-container-id-4 div.sk-parallel {display: flex;align-items: stretch;justify-content: center;background-color: white;position: relative;}#sk-container-id-4 div.sk-item::before, #sk-container-id-4 div.sk-parallel-item::before {content: \"\";position: absolute;border-left: 1px solid gray;box-sizing: border-box;top: 0;bottom: 0;left: 50%;z-index: -1;}#sk-container-id-4 div.sk-parallel-item {display: flex;flex-direction: column;z-index: 1;position: relative;background-color: white;}#sk-container-id-4 div.sk-parallel-item:first-child::after {align-self: flex-end;width: 50%;}#sk-container-id-4 div.sk-parallel-item:last-child::after {align-self: flex-start;width: 50%;}#sk-container-id-4 div.sk-parallel-item:only-child::after {width: 0;}#sk-container-id-4 div.sk-dashed-wrapped {border: 1px dashed gray;margin: 0 0.4em 0.5em 0.4em;box-sizing: border-box;padding-bottom: 0.4em;background-color: white;}#sk-container-id-4 div.sk-label label {font-family: monospace;font-weight: bold;display: inline-block;line-height: 1.2em;}#sk-container-id-4 div.sk-label-container {text-align: center;}#sk-container-id-4 div.sk-container {/* jupyter's `normalize.less` sets `[hidden] { display: none; }` but bootstrap.min.css set `[hidden] { display: none !important; }` so we also need the `!important` here to be able to override the default hidden behavior on the sphinx rendered scikit-learn.org. See: https://github.com/scikit-learn/scikit-learn/issues/21755 */display: inline-block !important;position: relative;}#sk-container-id-4 div.sk-text-repr-fallback {display: none;}</style><div id=\"sk-container-id-4\" class=\"sk-top-container\"><div class=\"sk-text-repr-fallback\"><pre>CountVectorizer(max_df=0.9, min_df=0.1, ngram_range=(1, 3))</pre><b>In a Jupyter environment, please rerun this cell to show the HTML representation or trust the notebook. <br />On GitHub, the HTML representation is unable to render, please try loading this page with nbviewer.org.</b></div><div class=\"sk-container\" hidden><div class=\"sk-item\"><div class=\"sk-estimator sk-toggleable\"><input class=\"sk-toggleable__control sk-hidden--visually\" id=\"sk-estimator-id-4\" type=\"checkbox\" checked><label for=\"sk-estimator-id-4\" class=\"sk-toggleable__label sk-toggleable__label-arrow\">CountVectorizer</label><div class=\"sk-toggleable__content\"><pre>CountVectorizer(max_df=0.9, min_df=0.1, ngram_range=(1, 3))</pre></div></div></div></div></div>"
      ],
      "text/plain": [
       "CountVectorizer(max_df=0.9, min_df=0.1, ngram_range=(1, 3))"
      ]
     },
     "execution_count": 32,
     "metadata": {},
     "output_type": "execute_result"
    }
   ],
   "source": [
    "count_vec_all = CountVectorizer(ngram_range=(1, 3), max_df=0.9, min_df=0.1)\n",
    "count_vec_all.fit(data[\"name_1\"] + data[\"name_2\"])"
   ]
  },
  {
   "cell_type": "code",
   "execution_count": 33,
   "id": "23c0e593",
   "metadata": {},
   "outputs": [
    {
     "data": {
      "text/plain": [
       "(396549, 6)"
      ]
     },
     "execution_count": 33,
     "metadata": {},
     "output_type": "execute_result"
    }
   ],
   "source": [
    "X_train_one = count_vec_all.transform(data[\"name_1\"])\n",
    "X_train_one.shape"
   ]
  },
  {
   "cell_type": "code",
   "execution_count": 36,
   "id": "3692bf4e",
   "metadata": {},
   "outputs": [
    {
     "data": {
      "text/plain": [
       "(396549, 6)"
      ]
     },
     "execution_count": 36,
     "metadata": {},
     "output_type": "execute_result"
    }
   ],
   "source": [
    "X_train_two = count_vec_all.transform(data[\"name_2\"])\n",
    "X_train_two.shape"
   ]
  },
  {
   "cell_type": "code",
   "execution_count": 26,
   "id": "3ebcd1b9",
   "metadata": {},
   "outputs": [],
   "source": [
    "# answer = []\n",
    "# for X_train_1, X_train_2 in zip(X_train_one, X_train_two):\n",
    "#     ans = cosine_similarity()"
   ]
  },
  {
   "cell_type": "code",
   "execution_count": 37,
   "id": "21350a52",
   "metadata": {},
   "outputs": [
    {
     "data": {
      "text/plain": [
       "(5, 5)"
      ]
     },
     "execution_count": 37,
     "metadata": {},
     "output_type": "execute_result"
    }
   ],
   "source": [
    "ans = cosine_similarity(X_train_one[:5], X_train_two[:5])\n",
    "ans.shape"
   ]
  },
  {
   "cell_type": "code",
   "execution_count": 41,
   "id": "fee297fa",
   "metadata": {},
   "outputs": [
    {
     "name": "stdout",
     "output_type": "stream",
     "text": [
      "[0. 0. 0. 0. 0.]\n"
     ]
    }
   ],
   "source": [
    "print(ans[2])"
   ]
  },
  {
   "cell_type": "code",
   "execution_count": 14,
   "id": "53874b5e",
   "metadata": {},
   "outputs": [
    {
     "data": {
      "text/plain": [
       "(5, 5)"
      ]
     },
     "execution_count": 14,
     "metadata": {},
     "output_type": "execute_result"
    }
   ],
   "source": [
    "ans = cosine_similarity(X_train_one[-5:], X_train_two[-5:])\n",
    "ans.shape"
   ]
  },
  {
   "cell_type": "code",
   "execution_count": 15,
   "id": "ed5093f5",
   "metadata": {},
   "outputs": [
    {
     "data": {
      "text/plain": [
       "array([[0.        , 0.28867513, 0.        , 0.        , 0.        ],\n",
       "       [0.3380617 , 0.25819889, 0.25819889, 0.        , 0.        ],\n",
       "       [0.18898224, 0.        , 0.28867513, 0.        , 0.        ],\n",
       "       [0.        , 0.        , 0.        , 0.        , 0.        ],\n",
       "       [0.        , 0.        , 0.        , 0.        , 0.        ]])"
      ]
     },
     "execution_count": 15,
     "metadata": {},
     "output_type": "execute_result"
    }
   ],
   "source": [
    "ans"
   ]
  },
  {
   "cell_type": "code",
   "execution_count": 16,
   "id": "1179f10a",
   "metadata": {},
   "outputs": [
    {
     "data": {
      "text/html": [
       "<div>\n",
       "<style scoped>\n",
       "    .dataframe tbody tr th:only-of-type {\n",
       "        vertical-align: middle;\n",
       "    }\n",
       "\n",
       "    .dataframe tbody tr th {\n",
       "        vertical-align: top;\n",
       "    }\n",
       "\n",
       "    .dataframe thead th {\n",
       "        text-align: right;\n",
       "    }\n",
       "</style>\n",
       "<table border=\"1\" class=\"dataframe\">\n",
       "  <thead>\n",
       "    <tr style=\"text-align: right;\">\n",
       "      <th></th>\n",
       "      <th>name_1</th>\n",
       "      <th>name_2</th>\n",
       "      <th>is_duplicate</th>\n",
       "    </tr>\n",
       "  </thead>\n",
       "  <tbody>\n",
       "    <tr>\n",
       "      <th>396544</th>\n",
       "      <td>Ng Fung Hong Inc.</td>\n",
       "      <td>Dongguan Hongsu Supply Chain Management Co., Ltd.</td>\n",
       "      <td>0</td>\n",
       "    </tr>\n",
       "    <tr>\n",
       "      <th>396545</th>\n",
       "      <td>Cosharbor Logistics Co., Ltd.(Lianyungang)</td>\n",
       "      <td>Eurybia Logistics Inc.</td>\n",
       "      <td>0</td>\n",
       "    </tr>\n",
       "    <tr>\n",
       "      <th>396546</th>\n",
       "      <td>Gti International Pvt., Ltd.</td>\n",
       "      <td>Kurt Geiger Ltd.</td>\n",
       "      <td>0</td>\n",
       "    </tr>\n",
       "    <tr>\n",
       "      <th>396547</th>\n",
       "      <td>I B International</td>\n",
       "      <td>Soluciones Integrales En Media Y Baja Tension ...</td>\n",
       "      <td>0</td>\n",
       "    </tr>\n",
       "    <tr>\n",
       "      <th>396548</th>\n",
       "      <td>Tremco illbruck Group GmbH</td>\n",
       "      <td>VALLEY ASPHALT</td>\n",
       "      <td>0</td>\n",
       "    </tr>\n",
       "  </tbody>\n",
       "</table>\n",
       "</div>"
      ],
      "text/plain": [
       "                                            name_1  \\\n",
       "396544                           Ng Fung Hong Inc.   \n",
       "396545  Cosharbor Logistics Co., Ltd.(Lianyungang)   \n",
       "396546                Gti International Pvt., Ltd.   \n",
       "396547                           I B International   \n",
       "396548                  Tremco illbruck Group GmbH   \n",
       "\n",
       "                                                   name_2  is_duplicate  \n",
       "396544  Dongguan Hongsu Supply Chain Management Co., Ltd.             0  \n",
       "396545                             Eurybia Logistics Inc.             0  \n",
       "396546                                   Kurt Geiger Ltd.             0  \n",
       "396547  Soluciones Integrales En Media Y Baja Tension ...             0  \n",
       "396548                                     VALLEY ASPHALT             0  "
      ]
     },
     "execution_count": 16,
     "metadata": {},
     "output_type": "execute_result"
    }
   ],
   "source": [
    "data.tail()"
   ]
  },
  {
   "cell_type": "code",
   "execution_count": 17,
   "id": "03be3850",
   "metadata": {},
   "outputs": [
    {
     "data": {
      "text/html": [
       "<div>\n",
       "<style scoped>\n",
       "    .dataframe tbody tr th:only-of-type {\n",
       "        vertical-align: middle;\n",
       "    }\n",
       "\n",
       "    .dataframe tbody tr th {\n",
       "        vertical-align: top;\n",
       "    }\n",
       "\n",
       "    .dataframe thead th {\n",
       "        text-align: right;\n",
       "    }\n",
       "</style>\n",
       "<table border=\"1\" class=\"dataframe\">\n",
       "  <thead>\n",
       "    <tr style=\"text-align: right;\">\n",
       "      <th></th>\n",
       "      <th>name_1</th>\n",
       "      <th>name_2</th>\n",
       "      <th>is_duplicate</th>\n",
       "    </tr>\n",
       "  </thead>\n",
       "  <tbody>\n",
       "    <tr>\n",
       "      <th>53</th>\n",
       "      <td>COLQUIMICA</td>\n",
       "      <td>ColquÍmica - IndÚstria Nacional De Colas, S.A.</td>\n",
       "      <td>1</td>\n",
       "    </tr>\n",
       "    <tr>\n",
       "      <th>81</th>\n",
       "      <td>Shanghai Michelin Warrior Tyre Co., Ltd.</td>\n",
       "      <td>Michelin Shenyang Tire Co., Ltd.</td>\n",
       "      <td>1</td>\n",
       "    </tr>\n",
       "    <tr>\n",
       "      <th>120</th>\n",
       "      <td>Sumitomo Industrias Pesadas Do Brasil Ltda</td>\n",
       "      <td>Sumitomo Corporation Do Brasil Sa</td>\n",
       "      <td>1</td>\n",
       "    </tr>\n",
       "    <tr>\n",
       "      <th>423</th>\n",
       "      <td>Korea- ERS- Korea Petroleum</td>\n",
       "      <td>Korea Petroleum Industries Company (KOSE:A004090)</td>\n",
       "      <td>1</td>\n",
       "    </tr>\n",
       "    <tr>\n",
       "      <th>486</th>\n",
       "      <td>Pirelli Neumaticos Sa</td>\n",
       "      <td>Pirelli Tyre Co., Ltd.</td>\n",
       "      <td>1</td>\n",
       "    </tr>\n",
       "    <tr>\n",
       "      <th>...</th>\n",
       "      <td>...</td>\n",
       "      <td>...</td>\n",
       "      <td>...</td>\n",
       "    </tr>\n",
       "    <tr>\n",
       "      <th>395659</th>\n",
       "      <td>Bridgestone (Huizhou) Tire Co., Ltd.</td>\n",
       "      <td>Bridgestone Tire</td>\n",
       "      <td>1</td>\n",
       "    </tr>\n",
       "    <tr>\n",
       "      <th>396287</th>\n",
       "      <td>LAGAN BITUMEN LTD</td>\n",
       "      <td>Lagan Bitumen Limited</td>\n",
       "      <td>1</td>\n",
       "    </tr>\n",
       "    <tr>\n",
       "      <th>396327</th>\n",
       "      <td>JX Nippon Oil &amp; Gas Exploration (Myanmar) Limited</td>\n",
       "      <td>JX Nippon Oil &amp; Gas Exploration Australia Pty ...</td>\n",
       "      <td>1</td>\n",
       "    </tr>\n",
       "    <tr>\n",
       "      <th>396481</th>\n",
       "      <td>Zeon Trading (Shanghai) Co., Ltd.</td>\n",
       "      <td>ZEON Corporation (TSE:4205)</td>\n",
       "      <td>1</td>\n",
       "    </tr>\n",
       "    <tr>\n",
       "      <th>396532</th>\n",
       "      <td>Sumitomo Rubber (Changshu) Co., Ltd.</td>\n",
       "      <td>Sumitomo Rubber Industries Usa</td>\n",
       "      <td>1</td>\n",
       "    </tr>\n",
       "  </tbody>\n",
       "</table>\n",
       "<p>2806 rows × 3 columns</p>\n",
       "</div>"
      ],
      "text/plain": [
       "                                                   name_1  \\\n",
       "53                                             COLQUIMICA   \n",
       "81               Shanghai Michelin Warrior Tyre Co., Ltd.   \n",
       "120            Sumitomo Industrias Pesadas Do Brasil Ltda   \n",
       "423                           Korea- ERS- Korea Petroleum   \n",
       "486                                 Pirelli Neumaticos Sa   \n",
       "...                                                   ...   \n",
       "395659               Bridgestone (Huizhou) Tire Co., Ltd.   \n",
       "396287                                  LAGAN BITUMEN LTD   \n",
       "396327  JX Nippon Oil & Gas Exploration (Myanmar) Limited   \n",
       "396481                  Zeon Trading (Shanghai) Co., Ltd.   \n",
       "396532               Sumitomo Rubber (Changshu) Co., Ltd.   \n",
       "\n",
       "                                                   name_2  is_duplicate  \n",
       "53         ColquÍmica - IndÚstria Nacional De Colas, S.A.             1  \n",
       "81                       Michelin Shenyang Tire Co., Ltd.             1  \n",
       "120                     Sumitomo Corporation Do Brasil Sa             1  \n",
       "423     Korea Petroleum Industries Company (KOSE:A004090)             1  \n",
       "486                                Pirelli Tyre Co., Ltd.             1  \n",
       "...                                                   ...           ...  \n",
       "395659                                   Bridgestone Tire             1  \n",
       "396287                              Lagan Bitumen Limited             1  \n",
       "396327  JX Nippon Oil & Gas Exploration Australia Pty ...             1  \n",
       "396481                        ZEON Corporation (TSE:4205)             1  \n",
       "396532                     Sumitomo Rubber Industries Usa             1  \n",
       "\n",
       "[2806 rows x 3 columns]"
      ]
     },
     "execution_count": 17,
     "metadata": {},
     "output_type": "execute_result"
    }
   ],
   "source": [
    "mask = data.is_duplicate == 1\n",
    "data[mask]"
   ]
  },
  {
   "cell_type": "code",
   "execution_count": 42,
   "id": "9411c42b",
   "metadata": {},
   "outputs": [
    {
     "data": {
      "text/plain": [
       "array([[0., 0., 0., 0.],\n",
       "       [0., 1., 0., 0.],\n",
       "       [0., 0., 0., 0.],\n",
       "       [0., 0., 0., 0.]])"
      ]
     },
     "execution_count": 42,
     "metadata": {},
     "output_type": "execute_result"
    }
   ],
   "source": [
    "dupl = [53, 81, 120, 423]\n",
    "ans = cosine_similarity(X_train_one[dupl], X_train_two[dupl])\n",
    "ans"
   ]
  },
  {
   "cell_type": "markdown",
   "id": "3352ebf9",
   "metadata": {},
   "source": [
    "Сразу видно что на диоганалях не стоят 1 => наше предполжение не работает"
   ]
  },
  {
   "cell_type": "code",
   "execution_count": null,
   "id": "ac7780a7",
   "metadata": {},
   "outputs": [],
   "source": []
  }
 ],
 "metadata": {
  "kernelspec": {
   "display_name": "Python 3",
   "language": "python",
   "name": "python3"
  },
  "language_info": {
   "codemirror_mode": {
    "name": "ipython",
    "version": 3
   },
   "file_extension": ".py",
   "mimetype": "text/x-python",
   "name": "python",
   "nbconvert_exporter": "python",
   "pygments_lexer": "ipython3",
   "version": "3.10.6"
  }
 },
 "nbformat": 4,
 "nbformat_minor": 5
}
